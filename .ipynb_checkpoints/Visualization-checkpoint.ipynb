{
 "cells": [
  {
   "cell_type": "code",
   "execution_count": 40,
   "metadata": {},
   "outputs": [],
   "source": [
    "import matplotlib.pyplot as plt"
   ]
  },
  {
   "cell_type": "code",
   "execution_count": 79,
   "metadata": {},
   "outputs": [],
   "source": [
    "def castFloat(str):\n",
    "    return float(str.replace(',','.'))"
   ]
  },
  {
   "cell_type": "code",
   "execution_count": 83,
   "metadata": {},
   "outputs": [],
   "source": [
    "def fileToList(fileName):\n",
    "    list = []\n",
    "    file = open(fileName)\n",
    "    for line in file:\n",
    "        list.append(castFloat(line))\n",
    "    file.close()\n",
    "    return list"
   ]
  },
  {
   "cell_type": "code",
   "execution_count": 87,
   "metadata": {},
   "outputs": [],
   "source": [
    "def processTest(testFiles):\n",
    "    data = []\n",
    "    statistics = []\n",
    "    for testFile in testFiles:\n",
    "        data.append(fileToList(testFile))\n",
    "    for j in range len(data[0]):\n",
    "        tuple = []\n",
    "        for i in range(len(data)):\n",
    "            tuple.append(data[i][j])\n",
    "        statistics.append(mean(tuple))\n",
    "    return statistics"
   ]
  },
  {
   "cell_type": "code",
   "execution_count": 88,
   "metadata": {},
   "outputs": [],
   "source": [
    "varDividends = ['TEST 1/VarDividend/avg_fts_all.result',\n",
    "                'TEST 2/VarDividend/avg_fts_all.result',\n",
    "                'TEST 3/VarDividend/avg_fts_all.result',\n",
    "                'TEST 4/VarDividend/avg_fts_all.result',\n",
    "                'TEST 5/VarDividend/avg_fts_all.result',\n",
    "                'TEST 6/VarDividend/avg_fts_all.result',\n",
    "                'TEST 7/VarDividend/avg_fts_all.result',\n",
    "                'TEST 8/VarDividend/avg_fts_all.result',\n",
    "                'TEST 9/VarDividend/avg_fts_all.result',\n",
    "                'TEST 10/VarDividend/avg_fts_all.result',\n",
    "                'TEST 11/VarDividend/avg_fts_all.result']"
   ]
  },
  {
   "cell_type": "code",
   "execution_count": 89,
   "metadata": {},
   "outputs": [],
   "source": [
    "file = open('TEST 11/VarDividend/avg_fts_all.result')\n",
    "list = []\n",
    "for row in file:\n",
    "    number = castFloat(row)\n",
    "    list.append(number)\n",
    "    "
   ]
  },
  {
   "cell_type": "code",
   "execution_count": 90,
   "metadata": {},
   "outputs": [
    {
     "name": "stdout",
     "output_type": "stream",
     "text": [
      "11\n",
      "100\n"
     ]
    }
   ],
   "source": [
    "processTest(varDividends)"
   ]
  },
  {
   "cell_type": "code",
   "execution_count": 72,
   "metadata": {},
   "outputs": [
    {
     "data": {
      "text/plain": [
       "[<matplotlib.lines.Line2D at 0x7f125f353550>]"
      ]
     },
     "execution_count": 72,
     "metadata": {},
     "output_type": "execute_result"
    },
    {
     "data": {
      "image/png": "[encoded data removed]",
      "text/plain": [
       "<Figure size 432x288 with 1 Axes>"
      ]
     },
     "metadata": {
      "needs_background": "light"
     },
     "output_type": "display_data"
    }
   ],
   "source": [
    "plt.plot(list)"
   ]
  }
 ],
 "metadata": {
  "kernelspec": {
   "display_name": "Python 3",
   "language": "python",
   "name": "python3"
  },
  "language_info": {
   "codemirror_mode": {
    "name": "ipython",
    "version": 3
   },
   "file_extension": ".py",
   "mimetype": "text/x-python",
   "name": "python",
   "nbconvert_exporter": "python",
   "pygments_lexer": "ipython3",
   "version": "3.7.7"
  }
 },
 "nbformat": 4,
 "nbformat_minor": 4
}
