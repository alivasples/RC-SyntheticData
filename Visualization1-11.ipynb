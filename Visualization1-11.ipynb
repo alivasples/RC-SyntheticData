{
 "cells": [
  {
   "cell_type": "code",
   "execution_count": 123,
   "metadata": {},
   "outputs": [],
   "source": [
    "import matplotlib.pyplot as plt"
   ]
  },
  {
   "cell_type": "code",
   "execution_count": 124,
   "metadata": {},
   "outputs": [],
   "source": [
    "def castFloat(str):\n",
    "    return float(str.replace(',','.'))"
   ]
  },
  {
   "cell_type": "code",
   "execution_count": 125,
   "metadata": {},
   "outputs": [],
   "source": [
    "# Read a file and push the elements into a list\n",
    "def fileToList(fileName):\n",
    "    list = []\n",
    "    file = open(fileName)\n",
    "    for line in file:\n",
    "        list.append(castFloat(line))\n",
    "    file.close()\n",
    "    return list"
   ]
  },
  {
   "cell_type": "code",
   "execution_count": 438,
   "metadata": {},
   "outputs": [],
   "source": [
    "# Compute the mean of a list elements\n",
    "def mean(list):\n",
    "    list.sort()\n",
    "    del list[0]\n",
    "    del list[len(list)-1]\n",
    "    sum = 0\n",
    "    for number in list:\n",
    "        sum += 1/number\n",
    "#    return list[0]\n",
    "#    return list[len(list)-1]\n",
    "    return len(list)/sum"
   ]
  },
  {
   "cell_type": "code",
   "execution_count": 313,
   "metadata": {},
   "outputs": [],
   "source": [
    "# Process a set of files\n",
    "def processTest(testFiles):\n",
    "    data = []\n",
    "    statistics = []\n",
    "    for testFile in testFiles:\n",
    "        data.append(fileToList(testFile))\n",
    "    for j in range(len(data[0])):\n",
    "        tuple = []\n",
    "        for i in range(len(data)):\n",
    "            tuple.append(data[i][j])\n",
    "        statistics.append(mean(tuple))\n",
    "    return statistics"
   ]
  },
  {
   "cell_type": "code",
   "execution_count": 314,
   "metadata": {},
   "outputs": [],
   "source": [
    "# Group elements in list\n",
    "def toBuckets(data, bucketSize):\n",
    "    i = 0\n",
    "    sum = 0\n",
    "    bucketList = []\n",
    "    for element in data:\n",
    "        sum += element\n",
    "        i+=1\n",
    "        if i == bucketSize:\n",
    "            bucketList.append(sum/i)\n",
    "            i = 0\n",
    "            sum = 0\n",
    "    return bucketList"
   ]
  },
  {
   "cell_type": "code",
   "execution_count": 325,
   "metadata": {},
   "outputs": [],
   "source": [
    "# Print elements of list\n",
    "def printList(data):\n",
    "    for element in data:\n",
    "        print(str(element).replace('.',','))"
   ]
  },
  {
   "cell_type": "code",
   "execution_count": 366,
   "metadata": {},
   "outputs": [],
   "source": [
    "# VAR DIVIDENDS\n",
    "filesT1FTSAll = ['TEST 1/VarDividend/avg_fts_all.result',\n",
    "                'TEST 2/VarDividend/avg_fts_all.result',\n",
    "                'TEST 3/VarDividend/avg_fts_all.result',\n",
    "                'TEST 4/VarDividend/avg_fts_all.result',\n",
    "                'TEST 5/VarDividend/avg_fts_all.result',\n",
    "                'TEST 6/VarDividend/avg_fts_all.result',\n",
    "                'TEST 7/VarDividend/avg_fts_all.result',\n",
    "                'TEST 8/VarDividend/avg_fts_all.result',\n",
    "                'TEST 9/VarDividend/avg_fts_all.result',\n",
    "                'TEST 10/VarDividend/avg_fts_all.result',\n",
    "                'TEST 11/VarDividend/avg_fts_all.result']\n",
    "\n",
    "filesT1FTSAny = ['TEST 1/VarDividend/avg_fts_any.result',\n",
    "                 'TEST 2/VarDividend/avg_fts_any.result',\n",
    "                 'TEST 3/VarDividend/avg_fts_any.result',\n",
    "                 'TEST 4/VarDividend/avg_fts_any.result',\n",
    "                 'TEST 5/VarDividend/avg_fts_any.result',\n",
    "                 'TEST 6/VarDividend/avg_fts_any.result',\n",
    "                 'TEST 7/VarDividend/avg_fts_any.result',\n",
    "                 'TEST 8/VarDividend/avg_fts_any.result',\n",
    "                 'TEST 9/VarDividend/avg_fts_any.result',\n",
    "                 'TEST 10/VarDividend/avg_fts_any.result',\n",
    "                 'TEST 11/VarDividend/avg_fts_any.result']\n",
    "\n",
    "filesT1IndexAll = ['TEST 1/VarDividend/avg_index_all.result',\n",
    "                   'TEST 2/VarDividend/avg_index_all.result',\n",
    "                   'TEST 3/VarDividend/avg_index_all.result',\n",
    "                   'TEST 4/VarDividend/avg_index_all.result',\n",
    "                   'TEST 5/VarDividend/avg_index_all.result',\n",
    "                   'TEST 6/VarDividend/avg_index_all.result',\n",
    "                   'TEST 7/VarDividend/avg_index_all.result',\n",
    "                   'TEST 8/VarDividend/avg_index_all.result',\n",
    "                   'TEST 9/VarDividend/avg_index_all.result',\n",
    "                   'TEST 10/VarDividend/avg_index_all.result',\n",
    "                   'TEST 11/VarDividend/avg_index_all.result']\n",
    "\n",
    "filesT1IndexAny = ['TEST 1/VarDividend/avg_index_any.result',\n",
    "                   'TEST 2/VarDividend/avg_index_any.result',\n",
    "                   'TEST 3/VarDividend/avg_index_any.result',\n",
    "                   'TEST 4/VarDividend/avg_index_any.result',\n",
    "                   'TEST 5/VarDividend/avg_index_any.result',\n",
    "                   'TEST 6/VarDividend/avg_index_any.result',\n",
    "                   'TEST 7/VarDividend/avg_index_any.result',\n",
    "                   'TEST 8/VarDividend/avg_index_any.result',\n",
    "                   'TEST 9/VarDividend/avg_index_any.result',\n",
    "                   'TEST 10/VarDividend/avg_index_any.result',\n",
    "                   'TEST 11/VarDividend/avg_index_any.result']"
   ]
  },
  {
   "cell_type": "code",
   "execution_count": 342,
   "metadata": {},
   "outputs": [],
   "source": [
    "# VAR DIVISORS\n",
    "filesT2FTSAll = ['TEST 1/VarDivisor/avg_fts_all.result',\n",
    "                'TEST 2/VarDivisor/avg_fts_all.result',\n",
    "                'TEST 3/VarDivisor/avg_fts_all.result',\n",
    "                'TEST 4/VarDivisor/avg_fts_all.result',\n",
    "                'TEST 5/VarDivisor/avg_fts_all.result',\n",
    "                'TEST 6/VarDivisor/avg_fts_all.result',\n",
    "                'TEST 7/VarDivisor/avg_fts_all.result',\n",
    "                'TEST 8/VarDivisor/avg_fts_all.result',\n",
    "                'TEST 9/VarDivisor/avg_fts_all.result',\n",
    "                'TEST 10/VarDivisor/avg_fts_all.result',\n",
    "                'TEST 11/VarDivisor/avg_fts_all.result']\n",
    "\n",
    "filesT2FTSAny = ['TEST 1/VarDivisor/avg_fts_any.result',\n",
    "                 'TEST 2/VarDivisor/avg_fts_any.result',\n",
    "                 'TEST 3/VarDivisor/avg_fts_any.result',\n",
    "                 'TEST 4/VarDivisor/avg_fts_any.result',\n",
    "                 'TEST 5/VarDivisor/avg_fts_any.result',\n",
    "                 'TEST 6/VarDivisor/avg_fts_any.result',\n",
    "                 'TEST 7/VarDivisor/avg_fts_any.result',\n",
    "                 'TEST 8/VarDivisor/avg_fts_any.result',\n",
    "                 'TEST 9/VarDivisor/avg_fts_any.result',\n",
    "                 'TEST 10/VarDivisor/avg_fts_any.result',\n",
    "                 'TEST 11/VarDivisor/avg_fts_any.result']\n",
    "\n",
    "filesT2IndexAll = ['TEST 1/VarDivisor/avg_index_all.result',\n",
    "                   'TEST 2/VarDivisor/avg_index_all.result',\n",
    "                   'TEST 3/VarDivisor/avg_index_all.result',\n",
    "                   'TEST 4/VarDivisor/avg_index_all.result',\n",
    "                   'TEST 5/VarDivisor/avg_index_all.result',\n",
    "                   'TEST 6/VarDivisor/avg_index_all.result',\n",
    "                   'TEST 7/VarDivisor/avg_index_all.result',\n",
    "                   'TEST 8/VarDivisor/avg_index_all.result',\n",
    "                   'TEST 9/VarDivisor/avg_index_all.result',\n",
    "                   'TEST 10/VarDivisor/avg_index_all.result',\n",
    "                   'TEST 11/VarDivisor/avg_index_all.result']\n",
    "\n",
    "filesT2IndexAny = ['TEST 1/VarDivisor/avg_index_any.result',\n",
    "                   'TEST 2/VarDivisor/avg_index_any.result',\n",
    "                   'TEST 3/VarDivisor/avg_index_any.result',\n",
    "                   'TEST 4/VarDivisor/avg_index_any.result',\n",
    "                   'TEST 5/VarDivisor/avg_index_any.result',\n",
    "                   'TEST 6/VarDivisor/avg_index_any.result',\n",
    "                   'TEST 7/VarDivisor/avg_index_any.result',\n",
    "                   'TEST 8/VarDivisor/avg_index_any.result',\n",
    "                   'TEST 9/VarDivisor/avg_index_any.result',\n",
    "                   'TEST 10/VarDivisor/avg_index_any.result',\n",
    "                   'TEST 11/VarDivisor/avg_index_any.result']"
   ]
  },
  {
   "cell_type": "code",
   "execution_count": 404,
   "metadata": {},
   "outputs": [],
   "source": [
    "# VAR GROUPS\n",
    "filesGroupsFTSAll = ['TEST 1/VarGroups/avg_fts_all.result',\n",
    "                'TEST 2/VarGroups/avg_fts_all.result',\n",
    "                'TEST 3/VarGroups/avg_fts_all.result',\n",
    "                'TEST 4/VarGroups/avg_fts_all.result',\n",
    "                'TEST 5/VarGroups/avg_fts_all.result',\n",
    "                'TEST 6/VarGroups/avg_fts_all.result',\n",
    "                'TEST 7/VarGroups/avg_fts_all.result',\n",
    "                'TEST 8/VarGroups/avg_fts_all.result',\n",
    "                'TEST 9/VarGroups/avg_fts_all.result',\n",
    "                'TEST 10/VarGroups/avg_fts_all.result',\n",
    "                'TEST 11/VarGroups/avg_fts_all.result']\n",
    "\n",
    "filesGroupsFTSAny = ['TEST 1/VarGroups/avg_fts_any.result',\n",
    "                 'TEST 2/VarGroups/avg_fts_any.result',\n",
    "                 'TEST 3/VarGroups/avg_fts_any.result',\n",
    "                 'TEST 4/VarGroups/avg_fts_any.result',\n",
    "                 'TEST 5/VarGroups/avg_fts_any.result',\n",
    "                 'TEST 6/VarGroups/avg_fts_any.result',\n",
    "                 'TEST 7/VarGroups/avg_fts_any.result',\n",
    "                 'TEST 8/VarGroups/avg_fts_any.result',\n",
    "                 'TEST 9/VarGroups/avg_fts_any.result',\n",
    "                 'TEST 10/VarGroups/avg_fts_any.result',\n",
    "                 'TEST 11/VarGroups/avg_fts_any.result']\n",
    "\n",
    "filesGroupsIndexAll = ['TEST 1/VarGroups/avg_index_all.result',\n",
    "                   'TEST 2/VarGroups/avg_index_all.result',\n",
    "                   'TEST 3/VarGroups/avg_index_all.result',\n",
    "                   'TEST 4/VarGroups/avg_index_all.result',\n",
    "                   'TEST 5/VarGroups/avg_index_all.result',\n",
    "                   'TEST 6/VarGroups/avg_index_all.result',\n",
    "                   'TEST 7/VarGroups/avg_index_all.result',\n",
    "                   'TEST 8/VarGroups/avg_index_all.result',\n",
    "                   'TEST 9/VarGroups/avg_index_all.result',\n",
    "                   'TEST 10/VarGroups/avg_index_all.result',\n",
    "                   'TEST 11/VarGroups/avg_index_all.result']\n",
    "\n",
    "filesGroupsIndexAny = ['TEST 1/VarGroups/avg_index_any.result',\n",
    "                   'TEST 2/VarGroups/avg_index_any.result',\n",
    "                   'TEST 3/VarGroups/avg_index_any.result',\n",
    "                   'TEST 4/VarGroups/avg_index_any.result',\n",
    "                   'TEST 5/VarGroups/avg_index_any.result',\n",
    "                   'TEST 6/VarGroups/avg_index_any.result',\n",
    "                   'TEST 7/VarGroups/avg_index_any.result',\n",
    "                   'TEST 8/VarGroups/avg_index_any.result',\n",
    "                   'TEST 9/VarGroups/avg_index_any.result',\n",
    "                   'TEST 10/VarGroups/avg_index_any.result',\n",
    "                   'TEST 11/VarGroups/avg_index_any.result']"
   ]
  },
  {
   "cell_type": "code",
   "execution_count": 405,
   "metadata": {},
   "outputs": [],
   "source": [
    "# VAR REQUISITES\n",
    "filesReqsFTSAll = ['TEST 1/VarReqs/avg_fts_all.result',\n",
    "                'TEST 2/VarReqs/avg_fts_all.result',\n",
    "                'TEST 3/VarReqs/avg_fts_all.result',\n",
    "                'TEST 4/VarReqs/avg_fts_all.result',\n",
    "                'TEST 5/VarReqs/avg_fts_all.result',\n",
    "                'TEST 6/VarReqs/avg_fts_all.result',\n",
    "                'TEST 7/VarReqs/avg_fts_all.result',\n",
    "                'TEST 8/VarReqs/avg_fts_all.result',\n",
    "                'TEST 9/VarReqs/avg_fts_all.result',\n",
    "                'TEST 10/VarReqs/avg_fts_all.result',\n",
    "                'TEST 11/VarReqs/avg_fts_all.result']\n",
    "\n",
    "filesReqsFTSAny = ['TEST 1/VarReqs/avg_fts_any.result',\n",
    "                 'TEST 2/VarReqs/avg_fts_any.result',\n",
    "                 'TEST 3/VarReqs/avg_fts_any.result',\n",
    "                 'TEST 4/VarReqs/avg_fts_any.result',\n",
    "                 'TEST 5/VarReqs/avg_fts_any.result',\n",
    "                 'TEST 6/VarReqs/avg_fts_any.result',\n",
    "                 'TEST 7/VarReqs/avg_fts_any.result',\n",
    "                 'TEST 8/VarReqs/avg_fts_any.result',\n",
    "                 'TEST 9/VarReqs/avg_fts_any.result',\n",
    "                 'TEST 10/VarReqs/avg_fts_any.result',\n",
    "                 'TEST 11/VarReqs/avg_fts_any.result']\n",
    "\n",
    "filesReqsIndexAll = ['TEST 1/VarReqs/avg_index_all.result',\n",
    "                   'TEST 2/VarReqs/avg_index_all.result',\n",
    "                   'TEST 3/VarReqs/avg_index_all.result',\n",
    "                   'TEST 4/VarReqs/avg_index_all.result',\n",
    "                   'TEST 5/VarReqs/avg_index_all.result',\n",
    "                   'TEST 6/VarReqs/avg_index_all.result',\n",
    "                   'TEST 7/VarReqs/avg_index_all.result',\n",
    "                   'TEST 8/VarReqs/avg_index_all.result',\n",
    "                   'TEST 9/VarReqs/avg_index_all.result',\n",
    "                   'TEST 10/VarReqs/avg_index_all.result',\n",
    "                   'TEST 11/VarReqs/avg_index_all.result']\n",
    "\n",
    "filesReqsIndexAny = ['TEST 1/VarReqs/avg_index_any.result',\n",
    "                   'TEST 2/VarReqs/avg_index_any.result',\n",
    "                   'TEST 3/VarReqs/avg_index_any.result',\n",
    "                   'TEST 4/VarReqs/avg_index_any.result',\n",
    "                   'TEST 5/VarReqs/avg_index_any.result',\n",
    "                   'TEST 6/VarReqs/avg_index_any.result',\n",
    "                   'TEST 7/VarReqs/avg_index_any.result',\n",
    "                   'TEST 8/VarReqs/avg_index_any.result',\n",
    "                   'TEST 9/VarReqs/avg_index_any.result',\n",
    "                   'TEST 10/VarReqs/avg_index_any.result',\n",
    "                   'TEST 11/VarReqs/avg_index_any.result']"
   ]
  },
  {
   "cell_type": "code",
   "execution_count": 470,
   "metadata": {},
   "outputs": [],
   "source": [
    "# VAR THRESHOLD\n",
    "filesThresholdFTSAll = [\n",
    "                'TEST 3/VarThreshold/avg_fts_all.result',\n",
    "                'TEST 4/VarThreshold/avg_fts_all.result',\n",
    "                'TEST 5/VarThreshold/avg_fts_all.result',\n",
    "                'TEST 6/VarThreshold/avg_fts_all.result',\n",
    "                'TEST 7/VarThreshold/avg_fts_all.result',\n",
    "                'TEST 8/VarThreshold/avg_fts_all.result',\n",
    "                'TEST 9/VarThreshold/avg_fts_all.result',\n",
    "                'TEST 10/VarThreshold/avg_fts_all.result',\n",
    "                'TEST 11/VarThreshold/avg_fts_all.result']\n",
    "\n",
    "filesThresholdFTSAny = [\n",
    "                 'TEST 3/VarThreshold/avg_fts_any.result',\n",
    "                 'TEST 4/VarThreshold/avg_fts_any.result',\n",
    "                 'TEST 5/VarThreshold/avg_fts_any.result',\n",
    "                 'TEST 6/VarThreshold/avg_fts_any.result',\n",
    "                 'TEST 7/VarThreshold/avg_fts_any.result',\n",
    "                 'TEST 8/VarThreshold/avg_fts_any.result',\n",
    "                 'TEST 9/VarThreshold/avg_fts_any.result',\n",
    "                 'TEST 10/VarThreshold/avg_fts_any.result',\n",
    "                 'TEST 11/VarThreshold/avg_fts_any.result']\n",
    "\n",
    "filesThresholdIndexAll = [\n",
    "                   'TEST 3/VarThreshold/avg_index_all.result',\n",
    "                   'TEST 4/VarThreshold/avg_index_all.result',\n",
    "                   'TEST 5/VarThreshold/avg_index_all.result',\n",
    "                   'TEST 6/VarThreshold/avg_index_all.result',\n",
    "                   'TEST 7/VarThreshold/avg_index_all.result',\n",
    "                   'TEST 8/VarThreshold/avg_index_all.result',\n",
    "                   'TEST 9/VarThreshold/avg_index_all.result',\n",
    "                   'TEST 10/VarThreshold/avg_index_all.result',\n",
    "                   'TEST 11/VarThreshold/avg_index_all.result']\n",
    "\n",
    "filesThresholdIndexAny = [\n",
    "                   'TEST 3/VarThreshold/avg_index_any.result',\n",
    "                   'TEST 4/VarThreshold/avg_index_any.result',\n",
    "                   'TEST 5/VarThreshold/avg_index_any.result',\n",
    "                   'TEST 6/VarThreshold/avg_index_any.result',\n",
    "                   'TEST 7/VarThreshold/avg_index_any.result',\n",
    "                   'TEST 8/VarThreshold/avg_index_any.result',\n",
    "                   'TEST 9/VarThreshold/avg_index_any.result',\n",
    "                   'TEST 10/VarThreshold/avg_index_any.result',\n",
    "                   'TEST 11/VarThreshold/avg_index_any.result']"
   ]
  },
  {
   "cell_type": "code",
   "execution_count": 475,
   "metadata": {},
   "outputs": [],
   "source": [
    "# VAR DISTRIBUTION\n",
    "filesDistributionFTSAll = [\n",
    "                'TEST 4/VarDistribution/avg_fts_all.result',\n",
    "                'TEST 5/VarDistribution/avg_fts_all.result',\n",
    "                'TEST 6/VarDistribution/avg_fts_all.result',\n",
    "                'TEST 7/VarDistribution/avg_fts_all.result',\n",
    "                'TEST 8/VarDistribution/avg_fts_all.result',\n",
    "                'TEST 9/VarDistribution/avg_fts_all.result',\n",
    "                'TEST 10/VarDistribution/avg_fts_all.result',\n",
    "                'TEST 11/VarDistribution/avg_fts_all.result']\n",
    "\n",
    "filesDistributionFTSAny = [\n",
    "                 'TEST 4/VarDistribution/avg_fts_any.result',\n",
    "                 'TEST 5/VarDistribution/avg_fts_any.result',\n",
    "                 'TEST 6/VarDistribution/avg_fts_any.result',\n",
    "                 'TEST 7/VarDistribution/avg_fts_any.result',\n",
    "                 'TEST 8/VarDistribution/avg_fts_any.result',\n",
    "                 'TEST 9/VarDistribution/avg_fts_any.result',\n",
    "                 'TEST 10/VarDistribution/avg_fts_any.result',\n",
    "                 'TEST 11/VarDistribution/avg_fts_any.result']\n",
    "\n",
    "filesDistributionIndexAll = [\n",
    "                   'TEST 4/VarDistribution/avg_index_all.result',\n",
    "                   'TEST 5/VarDistribution/avg_index_all.result',\n",
    "                   'TEST 6/VarDistribution/avg_index_all.result',\n",
    "                   'TEST 7/VarDistribution/avg_index_all.result',\n",
    "                   'TEST 8/VarDistribution/avg_index_all.result',\n",
    "                   'TEST 9/VarDistribution/avg_index_all.result',\n",
    "                   'TEST 10/VarDistribution/avg_index_all.result',\n",
    "                   'TEST 11/VarDistribution/avg_index_all.result']\n",
    "\n",
    "filesDistributionIndexAny = [\n",
    "                   'TEST 4/VarDistribution/avg_index_any.result',\n",
    "                   'TEST 5/VarDistribution/avg_index_any.result',\n",
    "                   'TEST 6/VarDistribution/avg_index_any.result',\n",
    "                   'TEST 7/VarDistribution/avg_index_any.result',\n",
    "                   'TEST 8/VarDistribution/avg_index_any.result',\n",
    "                   'TEST 9/VarDistribution/avg_index_any.result',\n",
    "                   'TEST 10/VarDistribution/avg_index_any.result',\n",
    "                   'TEST 11/VarDistribution/avg_index_any.result']"
   ]
  },
  {
   "cell_type": "code",
   "execution_count": 476,
   "metadata": {},
   "outputs": [],
   "source": [
    "bucketSize = 1"
   ]
  },
  {
   "cell_type": "code",
   "execution_count": 477,
   "metadata": {},
   "outputs": [],
   "source": [
    "T1AllFTS = processTest(filesT1FTSAll)\n",
    "T1AllFTS = toBuckets(T1AllFTS, bucketSize)\n",
    "#plt.plot(T1AllFTS)\n",
    "#printList(T1AllFTS)"
   ]
  },
  {
   "cell_type": "code",
   "execution_count": 478,
   "metadata": {},
   "outputs": [],
   "source": [
    "T1AnyFTS = processTest(filesT1FTSAny)\n",
    "T1AnyFTS = toBuckets(T1AnyFTS, bucketSize)\n",
    "#plt.plot(T1AnyFTS)\n",
    "#printList(T1AnyFTS)"
   ]
  },
  {
   "cell_type": "code",
   "execution_count": 479,
   "metadata": {},
   "outputs": [],
   "source": [
    "T1AllIndex = processTest(filesT1IndexAll)\n",
    "T1AllIndex = toBuckets(T1AllIndex, bucketSize)\n",
    "#plt.plot(T1AllIndex)\n",
    "#printList(T1AllIndex)"
   ]
  },
  {
   "cell_type": "code",
   "execution_count": 480,
   "metadata": {},
   "outputs": [],
   "source": [
    "T1AnyIndex = processTest(filesT1IndexAny)\n",
    "T1AnyIndex = toBuckets(T1AnyIndex, bucketSize)\n",
    "#plt.plot(T1AnyIndex)\n",
    "#printList(T1AnyIndex)"
   ]
  },
  {
   "cell_type": "code",
   "execution_count": 481,
   "metadata": {},
   "outputs": [],
   "source": [
    "T2AllFTS = processTest(filesT2FTSAll)\n",
    "T2AllFTS = toBuckets(T2AllFTS, bucketSize)\n",
    "#plt.plot(T2AllFTS)\n",
    "#printList(T2AllFTS)"
   ]
  },
  {
   "cell_type": "code",
   "execution_count": 482,
   "metadata": {},
   "outputs": [],
   "source": [
    "T2AnyFTS = processTest(filesT2FTSAny)\n",
    "T2AnyFTS = toBuckets(T2AnyFTS, bucketSize)\n",
    "#plt.plot(T2AnyFTS)\n",
    "#printList(T2AnyFTS)"
   ]
  },
  {
   "cell_type": "code",
   "execution_count": 483,
   "metadata": {},
   "outputs": [],
   "source": [
    "T2AllIndex = processTest(filesT2IndexAll)\n",
    "T2AllIndex = toBuckets(T2AllIndex, bucketSize)\n",
    "#plt.plot(T2AllIndex)\n",
    "#printList(T2AllIndex)"
   ]
  },
  {
   "cell_type": "code",
   "execution_count": 484,
   "metadata": {},
   "outputs": [],
   "source": [
    "T2AnyIndex = processTest(filesT2IndexAny)\n",
    "T2AnyIndex = toBuckets(T2AnyIndex, bucketSize)\n",
    "#plt.plot(T2AnyIndex)\n",
    "#printList(T2AnyIndex)"
   ]
  },
  {
   "cell_type": "code",
   "execution_count": 485,
   "metadata": {},
   "outputs": [],
   "source": [
    "GroupsAllFTS = processTest(filesGroupsFTSAll)\n",
    "GroupsAllFTS = toBuckets(GroupsAllFTS, bucketSize)\n",
    "#plt.plot(GroupsAllFTS)\n",
    "#printList(GroupsAllFTS)"
   ]
  },
  {
   "cell_type": "code",
   "execution_count": 486,
   "metadata": {},
   "outputs": [],
   "source": [
    "GroupsAnyFTS = processTest(filesGroupsFTSAny)\n",
    "GroupsAnyFTS = toBuckets(GroupsAnyFTS, bucketSize)\n",
    "#plt.plot(GroupsAnyFTS)\n",
    "#printList(GroupsAnyFTS)"
   ]
  },
  {
   "cell_type": "code",
   "execution_count": 487,
   "metadata": {},
   "outputs": [],
   "source": [
    "GroupsAllIndex = processTest(filesGroupsIndexAll)\n",
    "GroupsAllIndex = toBuckets(GroupsAllIndex, bucketSize)\n",
    "#plt.plot(GroupsAllIndex)\n",
    "#printList(GroupsAllIndex)"
   ]
  },
  {
   "cell_type": "code",
   "execution_count": 488,
   "metadata": {},
   "outputs": [],
   "source": [
    "GroupsAnyIndex = processTest(filesGroupsIndexAny)\n",
    "GroupsAnyIndex = toBuckets(GroupsAnyIndex, bucketSize)\n",
    "#plt.plot(GroupsAnyIndex)\n",
    "#printList(GroupsAnyIndex)"
   ]
  },
  {
   "cell_type": "code",
   "execution_count": 489,
   "metadata": {},
   "outputs": [],
   "source": [
    "ReqsAllFTS = processTest(filesReqsFTSAll)\n",
    "ReqsAllFTS = toBuckets(ReqsAllFTS, bucketSize)\n",
    "#plt.plot(ReqsAllFTS)\n",
    "#printList(ReqsAllFTS)"
   ]
  },
  {
   "cell_type": "code",
   "execution_count": 490,
   "metadata": {},
   "outputs": [],
   "source": [
    "ReqsAnyFTS = processTest(filesReqsFTSAny)\n",
    "ReqsAnyFTS = toBuckets(ReqsAnyFTS, bucketSize)\n",
    "#plt.plot(ReqsAnyFTS)\n",
    "#printList(ReqsAnyFTS)"
   ]
  },
  {
   "cell_type": "code",
   "execution_count": 491,
   "metadata": {},
   "outputs": [],
   "source": [
    "ReqsAllIndex = processTest(filesReqsIndexAll)\n",
    "ReqsAllIndex = toBuckets(ReqsAllIndex, bucketSize)\n",
    "#plt.plot(ReqsAllIndex)\n",
    "#printList(ReqsAllIndex)"
   ]
  },
  {
   "cell_type": "code",
   "execution_count": 492,
   "metadata": {},
   "outputs": [],
   "source": [
    "ReqsAnyIndex = processTest(filesReqsIndexAny)\n",
    "ReqsAnyIndex = toBuckets(ReqsAnyIndex, bucketSize)\n",
    "#plt.plot(ReqsAnyIndex)\n",
    "#printList(ReqsAnyIndex)"
   ]
  },
  {
   "cell_type": "code",
   "execution_count": 493,
   "metadata": {},
   "outputs": [],
   "source": [
    "ThresholdAllFTS = processTest(filesThresholdFTSAll)\n",
    "ThresholdAllFTS = toBuckets(ThresholdAllFTS, bucketSize)\n",
    "#plt.plot(ThresholdAllFTS)\n",
    "#printList(ThresholdAllFTS)"
   ]
  },
  {
   "cell_type": "code",
   "execution_count": 494,
   "metadata": {},
   "outputs": [],
   "source": [
    "ThresholdAnyFTS = processTest(filesThresholdFTSAny)\n",
    "ThresholdAnyFTS = toBuckets(ThresholdAnyFTS, bucketSize)\n",
    "#plt.plot(ThresholdAnyFTS)\n",
    "#printList(ThresholdAnyFTS)"
   ]
  },
  {
   "cell_type": "code",
   "execution_count": 495,
   "metadata": {},
   "outputs": [],
   "source": [
    "ThresholdAllIndex = processTest(filesThresholdIndexAll)\n",
    "ThresholdAllIndex = toBuckets(ThresholdAllIndex, bucketSize)\n",
    "#plt.plot(ThresholdAllIndex)\n",
    "#printList(ThresholdAllIndex)"
   ]
  },
  {
   "cell_type": "code",
   "execution_count": 496,
   "metadata": {},
   "outputs": [],
   "source": [
    "ThresholdAnyIndex = processTest(filesThresholdIndexAny)\n",
    "ThresholdAnyIndex = toBuckets(ThresholdAnyIndex, bucketSize)\n",
    "#plt.plot(ThresholdAnyIndex)\n",
    "#printList(ThresholdAnyIndex)"
   ]
  },
  {
   "cell_type": "code",
   "execution_count": 501,
   "metadata": {},
   "outputs": [
    {
     "ename": "IndexError",
     "evalue": "list index out of range",
     "output_type": "error",
     "traceback": [
      "\u001b[0;31m---------------------------------------------------------------------------\u001b[0m",
      "\u001b[0;31mIndexError\u001b[0m                                Traceback (most recent call last)",
      "\u001b[0;32m<ipython-input-501-4ec95b3e669a>\u001b[0m in \u001b[0;36m<module>\u001b[0;34m\u001b[0m\n\u001b[0;32m----> 1\u001b[0;31m \u001b[0mDistributionAllFTS\u001b[0m \u001b[0;34m=\u001b[0m \u001b[0mprocessTest\u001b[0m\u001b[0;34m(\u001b[0m\u001b[0mfilesDistributionFTSAll\u001b[0m\u001b[0;34m)\u001b[0m\u001b[0;34m\u001b[0m\u001b[0;34m\u001b[0m\u001b[0m\n\u001b[0m\u001b[1;32m      2\u001b[0m \u001b[0mDistributionAllFTS\u001b[0m \u001b[0;34m=\u001b[0m \u001b[0mtoBuckets\u001b[0m\u001b[0;34m(\u001b[0m\u001b[0mDistributionAllFTS\u001b[0m\u001b[0;34m,\u001b[0m \u001b[0mbucketSize\u001b[0m\u001b[0;34m)\u001b[0m\u001b[0;34m\u001b[0m\u001b[0;34m\u001b[0m\u001b[0m\n\u001b[1;32m      3\u001b[0m \u001b[0mplt\u001b[0m\u001b[0;34m.\u001b[0m\u001b[0mplot\u001b[0m\u001b[0;34m(\u001b[0m\u001b[0mDistributionAllFTS\u001b[0m\u001b[0;34m)\u001b[0m\u001b[0;34m\u001b[0m\u001b[0;34m\u001b[0m\u001b[0m\n\u001b[1;32m      4\u001b[0m \u001b[0mprintList\u001b[0m\u001b[0;34m(\u001b[0m\u001b[0mDistributionAllFTS\u001b[0m\u001b[0;34m)\u001b[0m\u001b[0;34m\u001b[0m\u001b[0;34m\u001b[0m\u001b[0m\n",
      "\u001b[0;32m<ipython-input-313-5c8fc6ebe06e>\u001b[0m in \u001b[0;36mprocessTest\u001b[0;34m(testFiles)\u001b[0m\n\u001b[1;32m      8\u001b[0m         \u001b[0mtuple\u001b[0m \u001b[0;34m=\u001b[0m \u001b[0;34m[\u001b[0m\u001b[0;34m]\u001b[0m\u001b[0;34m\u001b[0m\u001b[0;34m\u001b[0m\u001b[0m\n\u001b[1;32m      9\u001b[0m         \u001b[0;32mfor\u001b[0m \u001b[0mi\u001b[0m \u001b[0;32min\u001b[0m \u001b[0mrange\u001b[0m\u001b[0;34m(\u001b[0m\u001b[0mlen\u001b[0m\u001b[0;34m(\u001b[0m\u001b[0mdata\u001b[0m\u001b[0;34m)\u001b[0m\u001b[0;34m)\u001b[0m\u001b[0;34m:\u001b[0m\u001b[0;34m\u001b[0m\u001b[0;34m\u001b[0m\u001b[0m\n\u001b[0;32m---> 10\u001b[0;31m             \u001b[0mtuple\u001b[0m\u001b[0;34m.\u001b[0m\u001b[0mappend\u001b[0m\u001b[0;34m(\u001b[0m\u001b[0mdata\u001b[0m\u001b[0;34m[\u001b[0m\u001b[0mi\u001b[0m\u001b[0;34m]\u001b[0m\u001b[0;34m[\u001b[0m\u001b[0mj\u001b[0m\u001b[0;34m]\u001b[0m\u001b[0;34m)\u001b[0m\u001b[0;34m\u001b[0m\u001b[0;34m\u001b[0m\u001b[0m\n\u001b[0m\u001b[1;32m     11\u001b[0m         \u001b[0mstatistics\u001b[0m\u001b[0;34m.\u001b[0m\u001b[0mappend\u001b[0m\u001b[0;34m(\u001b[0m\u001b[0mmean\u001b[0m\u001b[0;34m(\u001b[0m\u001b[0mtuple\u001b[0m\u001b[0;34m)\u001b[0m\u001b[0;34m)\u001b[0m\u001b[0;34m\u001b[0m\u001b[0;34m\u001b[0m\u001b[0m\n\u001b[1;32m     12\u001b[0m     \u001b[0;32mreturn\u001b[0m \u001b[0mstatistics\u001b[0m\u001b[0;34m\u001b[0m\u001b[0;34m\u001b[0m\u001b[0m\n",
      "\u001b[0;31mIndexError\u001b[0m: list index out of range"
     ]
    }
   ],
   "source": [
    "DistributionAllFTS = processTest(filesDistributionFTSAll)\n",
    "DistributionAllFTS = toBuckets(DistributionAllFTS, bucketSize)\n",
    "plt.plot(DistributionAllFTS)\n",
    "printList(DistributionAllFTS)"
   ]
  },
  {
   "cell_type": "code",
   "execution_count": null,
   "metadata": {},
   "outputs": [],
   "source": [
    "DistributionAnyFTS = processTest(filesDistributionFTSAny)\n",
    "DistributionAnyFTS = toBuckets(DistributionAnyFTS, bucketSize)\n",
    "#plt.plot(DistributionAnyFTS)\n",
    "#printList(DistributionAnyFTS)"
   ]
  },
  {
   "cell_type": "code",
   "execution_count": null,
   "metadata": {},
   "outputs": [],
   "source": [
    "DistributionAllIndex = processTest(filesDistributionIndexAll)\n",
    "DistributionAllIndex = toBuckets(DistributionAllIndex, bucketSize)\n",
    "#plt.plot(DistributionAllIndex)\n",
    "#printList(DistributionAllIndex)"
   ]
  },
  {
   "cell_type": "code",
   "execution_count": null,
   "metadata": {},
   "outputs": [],
   "source": [
    "DistributionAnyIndex = processTest(filesDistributionIndexAny)\n",
    "DistributionAnyIndex = toBuckets(DistributionAnyIndex, bucketSize)\n",
    "#plt.plot(DistributionAnyIndex)\n",
    "#printList(DistributionAnyIndex)"
   ]
  }
 ],
 "metadata": {
  "kernelspec": {
   "display_name": "Python 3",
   "language": "python",
   "name": "python3"
  },
  "language_info": {
   "codemirror_mode": {
    "name": "ipython",
    "version": 3
   },
   "file_extension": ".py",
   "mimetype": "text/x-python",
   "name": "python",
   "nbconvert_exporter": "python",
   "pygments_lexer": "ipython3",
   "version": "3.7.7"
  }
 },
 "nbformat": 4,
 "nbformat_minor": 4
}
